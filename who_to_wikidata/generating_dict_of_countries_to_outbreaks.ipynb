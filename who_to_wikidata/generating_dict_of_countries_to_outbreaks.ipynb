{
 "cells": [
  {
   "cell_type": "code",
   "execution_count": 5,
   "metadata": {},
   "outputs": [],
   "source": [
    "from SPARQLWrapper import SPARQLWrapper, JSON\n",
    "def get_results(endpoint_url, query):\n",
    "        sparql = SPARQLWrapper(endpoint_url)\n",
    "        sparql.setQuery(query)\n",
    "        sparql.setReturnFormat(JSON)\n",
    "        return sparql.query().convert()\n",
    "\n",
    "\n",
    "def get_dicitionary_of_outbreaks_to_countries(output_file, print_dict = True ):\n",
    "\n",
    "    import pandas as pd\n",
    "    from SPARQLWrapper import SPARQLWrapper, JSON\n",
    "\n",
    "    endpoint_url = \"https://query.wikidata.org/sparql\"\n",
    "    query = \"\"\"SELECT ?item ?itemLabel ?country ?countryLabel ?alternative\n",
    "    WHERE \n",
    "    {\n",
    "      ?item wdt:P361 wd:Q83741704.\n",
    "      ?item wdt:P17 ?country.\n",
    "      OPTIONAL { ?country skos:altLabel ?alternative . FILTER (lang(?alternative) = \"en\") }\n",
    "      SERVICE wikibase:label { bd:serviceParam wikibase:language \"[AUTO_LANGUAGE],en\". }\n",
    "    }\n",
    "    \"\"\"\n",
    "    \n",
    "    results = get_results(endpoint_url, query)\n",
    "    dictionary = pd.json_normalize(results[\"results\"][\"bindings\"])\n",
    "    \n",
    "    dictionary = dictionary[['item.value','itemLabel.value',\"country.value\", \"countryLabel.value\", \"alternative.value\"]]\n",
    "    dictionary.columns = [\"outbreak_qid\", \"outbreak\", \"country_qid\", \"country\", \"other_names\"]\n",
    "\n",
    "    outbreak_qids = dictionary[\"outbreak_qid\"]\n",
    "    dictionary[\"outbreak_qid\"] = [item.split(\"/\")[4] for item in outbreak_qids]\n",
    "    country_qids = dictionary[\"country_qid\"]\n",
    "    dictionary[\"country_qid\"] = [item.split(\"/\")[4] for item in country_qids]   \n",
    "    \n",
    "    if print_dict:\n",
    "        print(dictionary)\n",
    "\n",
    "    dictionary.to_csv(output_file)\n",
    "    "
   ]
  },
  {
   "cell_type": "code",
   "execution_count": 6,
   "metadata": {},
   "outputs": [
    {
     "name": "stdout",
     "output_type": "stream",
     "text": [
      "    outbreak_qid                                           outbreak  \\\n",
      "0      Q83872291              2019–20 coronavirus outbreak in Japan   \n",
      "1      Q83872291              2019–20 coronavirus outbreak in Japan   \n",
      "2      Q83872291              2019–20 coronavirus outbreak in Japan   \n",
      "3      Q83872291              2019–20 coronavirus outbreak in Japan   \n",
      "4      Q86886544                2020 coronavirus pandemic in Norway   \n",
      "..           ...                                                ...   \n",
      "953    Q87199320  2020 coronavirus pandemic in the State of Pale...   \n",
      "954    Q87199320  2020 coronavirus pandemic in the State of Pale...   \n",
      "955    Q87199320  2020 coronavirus pandemic in the State of Pale...   \n",
      "956    Q87199320  2020 coronavirus pandemic in the State of Pale...   \n",
      "957    Q87250930              2020 coronavirus outbreak in Cameroon   \n",
      "\n",
      "    country_qid             country            other_names  \n",
      "0           Q17               Japan                  Nihon  \n",
      "1           Q17               Japan             Nihon-koku  \n",
      "2           Q17               Japan            Nippon-koku  \n",
      "3           Q17               Japan         State of Japan  \n",
      "4           Q20              Norway                     NO  \n",
      "..          ...                 ...                    ...  \n",
      "953     Q219060  State of Palestine                     PA  \n",
      "954     Q219060  State of Palestine  Palestinian Authority  \n",
      "955     Q219060  State of Palestine      Palestinian state  \n",
      "956     Q219060  State of Palestine                     🇵🇸  \n",
      "957   Q29406548            Cameroun                    NaN  \n",
      "\n",
      "[958 rows x 5 columns]\n"
     ]
    }
   ],
   "source": [
    "output_file_name = \"country_to_outbreak_dictionary.csv\"\n",
    "\n",
    "get_dicitionary_of_outbreaks_to_countries(output_file_name)"
   ]
  },
  {
   "cell_type": "code",
   "execution_count": null,
   "metadata": {},
   "outputs": [],
   "source": []
  }
 ],
 "metadata": {
  "kernelspec": {
   "display_name": "Python 3",
   "language": "python",
   "name": "python3"
  },
  "language_info": {
   "codemirror_mode": {
    "name": "ipython",
    "version": 3
   },
   "file_extension": ".py",
   "mimetype": "text/x-python",
   "name": "python",
   "nbconvert_exporter": "python",
   "pygments_lexer": "ipython3",
   "version": "3.6.9"
  }
 },
 "nbformat": 4,
 "nbformat_minor": 4
}
