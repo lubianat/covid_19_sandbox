{
 "cells": [
  {
   "cell_type": "code",
   "execution_count": 126,
   "metadata": {},
   "outputs": [],
   "source": [
    "import pandas as pd\n",
    "\n",
    "who = pd.read_csv(\"who_16_03.csv\")\n",
    "dictionary = pd.read_csv(\"country_to_outbreak_dictionary.csv\")\n"
   ]
  },
  {
   "cell_type": "code",
   "execution_count": 127,
   "metadata": {},
   "outputs": [],
   "source": [
    "who_table_with_qids = who.merge(dictionary, on = \"country\", how = \"left\" )\n",
    "\n",
    "who_table_with_qids = who_table_with_qids[[\"country\", \"total_cases\", \"total_deaths\", \"outbreak_qid\", \"outbreak\"]].dropna().drop_duplicates()"
   ]
  },
  {
   "cell_type": "markdown",
   "metadata": {},
   "source": [
    "\n",
    "Now I am going to match countries with aliases that might not be the official country name"
   ]
  },
  {
   "cell_type": "code",
   "execution_count": 128,
   "metadata": {},
   "outputs": [
    {
     "data": {
      "text/html": [
       "<div>\n",
       "<style scoped>\n",
       "    .dataframe tbody tr th:only-of-type {\n",
       "        vertical-align: middle;\n",
       "    }\n",
       "\n",
       "    .dataframe tbody tr th {\n",
       "        vertical-align: top;\n",
       "    }\n",
       "\n",
       "    .dataframe thead th {\n",
       "        text-align: right;\n",
       "    }\n",
       "</style>\n",
       "<table border=\"1\" class=\"dataframe\">\n",
       "  <thead>\n",
       "    <tr style=\"text-align: right;\">\n",
       "      <th></th>\n",
       "      <th>country</th>\n",
       "      <th>total_cases</th>\n",
       "      <th>total_deaths</th>\n",
       "      <th>outbreak_qid</th>\n",
       "      <th>outbreak</th>\n",
       "    </tr>\n",
       "  </thead>\n",
       "  <tbody>\n",
       "    <tr>\n",
       "      <th>5</th>\n",
       "      <td>China</td>\n",
       "      <td>81077</td>\n",
       "      <td>3218</td>\n",
       "      <td>Q83872271</td>\n",
       "      <td>2019–20 coronavirus pandemic in mainland China</td>\n",
       "    </tr>\n",
       "    <tr>\n",
       "      <th>6</th>\n",
       "      <td>Republic of Korea</td>\n",
       "      <td>8236</td>\n",
       "      <td>75</td>\n",
       "      <td>Q83872398</td>\n",
       "      <td>2019–20 COVID-19 outbreak in South Korea</td>\n",
       "    </tr>\n",
       "    <tr>\n",
       "      <th>12</th>\n",
       "      <td>Viet Nam</td>\n",
       "      <td>57</td>\n",
       "      <td>0</td>\n",
       "      <td>Q83873057</td>\n",
       "      <td>2019–20 coronavirus outbreak in Vietnam</td>\n",
       "    </tr>\n",
       "    <tr>\n",
       "      <th>13</th>\n",
       "      <td>Brunei Darussalam</td>\n",
       "      <td>50</td>\n",
       "      <td>0</td>\n",
       "      <td>Q87412028</td>\n",
       "      <td>2020 coronavirus outbreak in Brunei</td>\n",
       "    </tr>\n",
       "    <tr>\n",
       "      <th>33</th>\n",
       "      <td>Czechia</td>\n",
       "      <td>298</td>\n",
       "      <td>0</td>\n",
       "      <td>Q86919406</td>\n",
       "      <td>2020 coronavirus outbreak in the Czech Republic</td>\n",
       "    </tr>\n",
       "    <tr>\n",
       "      <th>44</th>\n",
       "      <td>Russian Federation</td>\n",
       "      <td>63</td>\n",
       "      <td>0</td>\n",
       "      <td>Q84098939</td>\n",
       "      <td>2019–20 coronavirus outbreak in Russia</td>\n",
       "    </tr>\n",
       "    <tr>\n",
       "      <th>53</th>\n",
       "      <td>Cyprus</td>\n",
       "      <td>33</td>\n",
       "      <td>0.0</td>\n",
       "      <td>Q87580938</td>\n",
       "      <td>2020 coronavirus pandemic in Cyprus</td>\n",
       "    </tr>\n",
       "    <tr>\n",
       "      <th>57</th>\n",
       "      <td>Republic of Moldova</td>\n",
       "      <td>23</td>\n",
       "      <td>0.0</td>\n",
       "      <td>Q87592982</td>\n",
       "      <td>2020 coronavirus pandemic in Moldova</td>\n",
       "    </tr>\n",
       "    <tr>\n",
       "      <th>154</th>\n",
       "      <td>Cote d’Ivoire</td>\n",
       "      <td>3</td>\n",
       "      <td>0.0</td>\n",
       "      <td>Q87704267</td>\n",
       "      <td>2020 coronavirus pandemic in Ivory Coast</td>\n",
       "    </tr>\n",
       "    <tr>\n",
       "      <th>164</th>\n",
       "      <td>Congo</td>\n",
       "      <td>1.0</td>\n",
       "      <td>0.0</td>\n",
       "      <td>Q87706558</td>\n",
       "      <td>2020 coronavirus pandemic in the Democratic Re...</td>\n",
       "    </tr>\n",
       "  </tbody>\n",
       "</table>\n",
       "</div>"
      ],
      "text/plain": [
       "                 country total_cases total_deaths outbreak_qid  \\\n",
       "5                  China       81077         3218    Q83872271   \n",
       "6      Republic of Korea        8236           75    Q83872398   \n",
       "12              Viet Nam          57            0    Q83873057   \n",
       "13     Brunei Darussalam          50            0    Q87412028   \n",
       "33               Czechia         298            0    Q86919406   \n",
       "44    Russian Federation          63            0    Q84098939   \n",
       "53                Cyprus          33          0.0    Q87580938   \n",
       "57   Republic of Moldova          23          0.0    Q87592982   \n",
       "154        Cote d’Ivoire           3          0.0    Q87704267   \n",
       "164                Congo         1.0          0.0    Q87706558   \n",
       "\n",
       "                                              outbreak  \n",
       "5       2019–20 coronavirus pandemic in mainland China  \n",
       "6             2019–20 COVID-19 outbreak in South Korea  \n",
       "12             2019–20 coronavirus outbreak in Vietnam  \n",
       "13                 2020 coronavirus outbreak in Brunei  \n",
       "33     2020 coronavirus outbreak in the Czech Republic  \n",
       "44              2019–20 coronavirus outbreak in Russia  \n",
       "53                 2020 coronavirus pandemic in Cyprus  \n",
       "57                2020 coronavirus pandemic in Moldova  \n",
       "154           2020 coronavirus pandemic in Ivory Coast  \n",
       "164  2020 coronavirus pandemic in the Democratic Re...  "
      ]
     },
     "execution_count": 128,
     "metadata": {},
     "output_type": "execute_result"
    }
   ],
   "source": [
    "who_table_with_qids_alias_version = who.merge(dictionary, left_on = \"country\", right_on = \"other_names\", how = \"left\" )\n",
    "\n",
    "who_table_with_qids_alias_version = who_table_with_qids_alias_version[[\"country_x\", \"total_cases\", \"total_deaths\", \"outbreak_qid\", \"outbreak\"]].dropna().drop_duplicates()\n",
    "\n",
    "who_table_with_qids_alias_version.columns = [\"country\", \"total_cases\", \"total_deaths\", \"outbreak_qid\", \"outbreak\"]\n",
    "who_table_with_qids_alias_version"
   ]
  },
  {
   "cell_type": "code",
   "execution_count": 129,
   "metadata": {},
   "outputs": [],
   "source": [
    "## Now we will join both tables \n",
    "\n",
    "who_table_with_qids = who_table_with_qids.append(who_table_with_qids_alias_version)"
   ]
  },
  {
   "cell_type": "code",
   "execution_count": 130,
   "metadata": {},
   "outputs": [],
   "source": [
    "# Now saving. Now we have the matching table. It will have to be manually curated for items that possibly are mistaken. It is okay.\n",
    "\n",
    "who_table_with_qids.to_csv(\"who_table_with_qids.csv\")"
   ]
  },
  {
   "cell_type": "code",
   "execution_count": 131,
   "metadata": {},
   "outputs": [
    {
     "data": {
      "text/plain": [
       "[]"
      ]
     },
     "execution_count": 131,
     "metadata": {},
     "output_type": "execute_result"
    }
   ],
   "source": [
    "# Let's see if we have duplications. If we do, then I will solve then on the dictionary file.\n",
    "\n",
    "def list_duplicates(seq):\n",
    "  seen = set()\n",
    "  seen_add = seen.add\n",
    "  # adds all elements it doesn't know yet to seen and all other to seen_twice\n",
    "  seen_twice = set( x for x in seq if x in seen or seen_add(x) )\n",
    "  # turn the set into a list (as requested)\n",
    "  return list( seen_twice )\n",
    "\n",
    "list_duplicates(who_table_with_qids[\"country\"])"
   ]
  },
  {
   "cell_type": "code",
   "execution_count": null,
   "metadata": {},
   "outputs": [],
   "source": []
  },
  {
   "cell_type": "code",
   "execution_count": null,
   "metadata": {},
   "outputs": [],
   "source": []
  }
 ],
 "metadata": {
  "kernelspec": {
   "display_name": "Python 3",
   "language": "python",
   "name": "python3"
  },
  "language_info": {
   "codemirror_mode": {
    "name": "ipython",
    "version": 3
   },
   "file_extension": ".py",
   "mimetype": "text/x-python",
   "name": "python",
   "nbconvert_exporter": "python",
   "pygments_lexer": "ipython3",
   "version": "3.6.9"
  }
 },
 "nbformat": 4,
 "nbformat_minor": 4
}
