{
 "cells": [
  {
   "cell_type": "code",
   "execution_count": 3,
   "metadata": {},
   "outputs": [],
   "source": [
    "import pandas as pd\n",
    "\n",
    "def match_who_table_to_qids(who, dictionary, output_file):\n",
    "    who_table_with_qids_by_label = who.merge(dictionary, on = \"country\", how = \"left\" )\n",
    "    who_table_with_qids_by_label = who_table_with_qids_by_label[[\"country\", \"total_cases\", \"total_deaths\", \"outbreak_qid\", \"outbreak\"]].dropna().drop_duplicates()\n",
    "\n",
    "    who_table_with_qids_by_alias = who.merge(dictionary, left_on = \"country\", right_on = \"other_names\", how = \"left\" )\n",
    "    who_table_with_qids_by_alias = who_table_with_qids_by_alias[[\"country_x\", \"total_cases\", \"total_deaths\", \"outbreak_qid\", \"outbreak\"]].dropna().drop_duplicates()\n",
    "    who_table_with_qids_by_alias.columns = [\"country\", \"total_cases\", \"total_deaths\", \"outbreak_qid\", \"outbreak\"]\n",
    "\n",
    "\n",
    "    ## Now we will join both tables \n",
    "    who_table_with_qids = who_table_with_qids_by_label.append(who_table_with_qids_by_alias)\n",
    "\n",
    "    #t will have to be manually curated for items that possibly are mistaken. It is okay.\n",
    "    who_table_with_qids.to_csv(output_file)\n",
    "    \n",
    "    return(who_table_with_qids)\n",
    "\n",
    "def list_duplicates(seq):\n",
    "  seen = set()\n",
    "  seen_add = seen.add\n",
    "  # adds all elements it doesn't know yet to seen and all other to seen_twice\n",
    "  seen_twice = set( x for x in seq if x in seen or seen_add(x) )\n",
    "  # turn the set into a list (as requested)\n",
    "  return list( seen_twice )"
   ]
  },
  {
   "cell_type": "code",
   "execution_count": 4,
   "metadata": {},
   "outputs": [
    {
     "name": "stdout",
     "output_type": "stream",
     "text": [
      "It is okay\n"
     ]
    }
   ],
   "source": [
    "who = pd.read_csv(\"who_19_03.csv\")\n",
    "dictionary = pd.read_csv(\"country_to_outbreak_dictionary.csv\")\n",
    "output_file = \"who_table_with_qids.csv\"\n",
    "\n",
    "\n",
    "who_table_with_qids = match_who_table_to_qids(who, dictionary, output_file)\n",
    "\n",
    "if ~len(list_duplicates(who_table_with_qids[\"country\"])):\n",
    "    print(\"It is okay\")\n",
    "else:\n",
    "    print(list_duplicates(who_table_with_qids[\"country\"]))\n"
   ]
  },
  {
   "cell_type": "code",
   "execution_count": null,
   "metadata": {},
   "outputs": [],
   "source": []
  }
 ],
 "metadata": {
  "kernelspec": {
   "display_name": "Python 3",
   "language": "python",
   "name": "python3"
  },
  "language_info": {
   "codemirror_mode": {
    "name": "ipython",
    "version": 3
   },
   "file_extension": ".py",
   "mimetype": "text/x-python",
   "name": "python",
   "nbconvert_exporter": "python",
   "pygments_lexer": "ipython3",
   "version": "3.6.9"
  }
 },
 "nbformat": 4,
 "nbformat_minor": 4
}
