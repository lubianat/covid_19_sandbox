{
 "cells": [
  {
   "cell_type": "code",
   "execution_count": 23,
   "metadata": {},
   "outputs": [],
   "source": [
    "from tabula import read_pdf\n",
    "\n",
    "import pandas as pd\n",
    "\n",
    "file = \"20200317-sitrep-57-covid-19.pdf\"\n",
    "output_file = \"who_17_03.csv\"\n",
    "\n",
    "\n",
    "df = read_pdf(file, pages = [3,4,5,6], pandas_options={'header': None})\n",
    "\n",
    "df[0] = df[0].drop([3], axis=1)\n",
    "df[0].columns = [0, 1, 2, 3, 4, 5, 6]"
   ]
  },
  {
   "cell_type": "code",
   "execution_count": 25,
   "metadata": {},
   "outputs": [],
   "source": [
    "cases_df = pd.concat(df)"
   ]
  },
  {
   "cell_type": "code",
   "execution_count": 27,
   "metadata": {},
   "outputs": [],
   "source": [
    "cases_df.columns  = [\"country\", \"total_cases\", \"cases_today\", \"total_deaths\", \"deaths_today\", \"classification\", \"says since last case\"]\n",
    "cases_df.to_csv(output_file)\n",
    "\n",
    "# Table had to be manually curated"
   ]
  }
 ],
 "metadata": {
  "kernelspec": {
   "display_name": "Python 3",
   "language": "python",
   "name": "python3"
  },
  "language_info": {
   "codemirror_mode": {
    "name": "ipython",
    "version": 3
   },
   "file_extension": ".py",
   "mimetype": "text/x-python",
   "name": "python",
   "nbconvert_exporter": "python",
   "pygments_lexer": "ipython3",
   "version": "3.6.9"
  }
 },
 "nbformat": 4,
 "nbformat_minor": 4
}
