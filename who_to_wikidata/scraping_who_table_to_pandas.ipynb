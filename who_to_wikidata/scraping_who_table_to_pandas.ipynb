{
 "cells": [
  {
   "cell_type": "code",
   "execution_count": 1,
   "metadata": {},
   "outputs": [
    {
     "data": {
      "text/plain": [
       "701423"
      ]
     },
     "execution_count": 1,
     "metadata": {},
     "output_type": "execute_result"
    }
   ],
   "source": [
    "from tabula import read_pdf\n",
    "import pandas as pd\n",
    "\n",
    "from pathlib import Path\n",
    "import requests\n",
    "\n",
    "\n",
    "filename = Path('./who_19_03.pdf')\n",
    "url = 'https://www.who.int/docs/default-source/coronaviruse/situation-reports/20200319-sitrep-59-covid-19.pdf'\n",
    "response = requests.get(url)\n",
    "filename.write_bytes(response.content)\n",
    "\n"
   ]
  },
  {
   "cell_type": "code",
   "execution_count": 2,
   "metadata": {},
   "outputs": [],
   "source": [
    "file = \"who_19_03.pdf\"\n",
    "output_file = \"who_19_03.csv\"\n",
    "\n",
    "\n",
    "cases_list = read_pdf(file, pages = [3,4,5,6], pandas_options={'header': None})"
   ]
  },
  {
   "cell_type": "code",
   "execution_count": 3,
   "metadata": {},
   "outputs": [],
   "source": [
    "cases_df = pd.concat(cases_list)"
   ]
  },
  {
   "cell_type": "code",
   "execution_count": 17,
   "metadata": {},
   "outputs": [],
   "source": [
    "cases_df.columns  = [\"country\", \"total_cases\", \"cases_today\", \"total_deaths\", \"deaths_today\", \"classification\", \"says since last case\"]\n",
    "\n",
    "# Netherlands and Portugal will be removed, as people are curating their pages manually. \n",
    "\n",
    "\n",
    "cases_df = cases_df[cases_df[\"country\"] != \"Netherlands\"]\n",
    "cases_df = cases_df[cases_df[\"country\"] != \"Portugal\"]\n",
    "cases_df[\"country\"] = cases_df[\"country\"].str.replace('\\r', \" \")\n",
    "\n",
    "\n",
    "cases_df.to_csv(output_file)\n",
    "\n",
    "# Table had to be manually curated"
   ]
  }
 ],
 "metadata": {
  "kernelspec": {
   "display_name": "Python 3",
   "language": "python",
   "name": "python3"
  },
  "language_info": {
   "codemirror_mode": {
    "name": "ipython",
    "version": 3
   },
   "file_extension": ".py",
   "mimetype": "text/x-python",
   "name": "python",
   "nbconvert_exporter": "python",
   "pygments_lexer": "ipython3",
   "version": "3.6.9"
  }
 },
 "nbformat": 4,
 "nbformat_minor": 4
}
