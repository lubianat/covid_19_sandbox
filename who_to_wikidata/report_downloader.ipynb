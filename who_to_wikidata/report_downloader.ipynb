{
 "cells": [
  {
   "cell_type": "code",
   "execution_count": 4,
   "metadata": {},
   "outputs": [],
   "source": [
    "#Given a date or a number, the code will retrieve UN's report about covid19 for that day. \n",
    "\n",
    "from datetime import date\n",
    "from datetime import timedelta\n",
    "\n",
    "from pathlib import Path\n",
    "import requests\n",
    "\n",
    "def get_covid_report_url(number, by =\"number\"): \n",
    "    \n",
    "    report_0_date = date(2020, 1, 20)\n",
    "    requested_report_date = report_0_date + timedelta(days=number)\n",
    "\n",
    "\n",
    "    base_url = 'https://www.who.int/docs/default-source/coronaviruse/situation-reports/' + requested_report_date.strftime('%Y%m%d')  + \"-sitrep-\" + str(number) \n",
    "    if by == \"number\":\n",
    "        \n",
    "        if number <=7 :\n",
    "            if number == 6:\n",
    "                url = base_url + \"-2019--ncov.pdf\"    \n",
    "            else:\n",
    "                url = base_url + \"-2019-ncov.pdf\"    \n",
    "        elif number <= 24:\n",
    "            url = base_url + \"-ncov.pdf\"    \n",
    "        else:\n",
    "            url = base_url + \"-covid-19.pdf\"\n",
    "        return(url)     \n",
    "        \n",
    "\n",
    "def dowload_covid_report(number):\n",
    "    url = get_covid_report_url(number)\n",
    "    filename = Path('./who_report_covid19_' + str(number) + '.pdf')\n",
    "    response = requests.get(url)\n",
    "    filename.write_bytes(response.content)\n",
    "    \n",
    "\n",
    "\n"
   ]
  },
  {
   "cell_type": "code",
   "execution_count": 6,
   "metadata": {},
   "outputs": [
    {
     "name": "stdout",
     "output_type": "stream",
     "text": [
      "https://www.who.int/docs/default-source/coronaviruse/situation-reports/20200323-sitrep-63-covid-19.pdf\n"
     ]
    }
   ],
   "source": [
    "get_covid_report(63)\n",
    "\n"
   ]
  },
  {
   "cell_type": "code",
   "execution_count": 7,
   "metadata": {},
   "outputs": [
    {
     "name": "stdout",
     "output_type": "stream",
     "text": [
      "2020-01-22\n"
     ]
    }
   ],
   "source": [
    "print(a+ "
   ]
  },
  {
   "cell_type": "code",
   "execution_count": null,
   "metadata": {},
   "outputs": [],
   "source": []
  }
 ],
 "metadata": {
  "kernelspec": {
   "display_name": "Python 3",
   "language": "python",
   "name": "python3"
  },
  "language_info": {
   "codemirror_mode": {
    "name": "ipython",
    "version": 3
   },
   "file_extension": ".py",
   "mimetype": "text/x-python",
   "name": "python",
   "nbconvert_exporter": "python",
   "pygments_lexer": "ipython3",
   "version": "3.6.9"
  }
 },
 "nbformat": 4,
 "nbformat_minor": 4
}
