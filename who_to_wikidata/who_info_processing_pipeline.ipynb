{
 "cells": [
  {
   "cell_type": "code",
   "execution_count": 16,
   "metadata": {},
   "outputs": [],
   "source": [
    "import pandas as pd\n",
    "from tabula import read_pdf\n",
    "%run functions\n"
   ]
  },
  {
   "cell_type": "code",
   "execution_count": 11,
   "metadata": {},
   "outputs": [],
   "source": [
    "download_covid_report(65)\n",
    "\n"
   ]
  },
  {
   "cell_type": "code",
   "execution_count": 12,
   "metadata": {},
   "outputs": [
    {
     "name": "stderr",
     "output_type": "stream",
     "text": [
      "Got stderr: mar 27, 2020 10:17:29 AM org.apache.pdfbox.pdmodel.font.FileSystemFontProvider loadDiskCache\n",
      "WARNING: New fonts found, font cache will be re-built\n",
      "mar 27, 2020 10:17:29 AM org.apache.pdfbox.pdmodel.font.FileSystemFontProvider <init>\n",
      "WARNING: Building on-disk font cache, this may take a while\n",
      "mar 27, 2020 10:17:33 AM org.apache.pdfbox.pdmodel.font.FileSystemFontProvider <init>\n",
      "WARNING: Finished building on-disk font cache, found 419 fonts\n",
      "mar 27, 2020 10:17:33 AM org.apache.pdfbox.pdmodel.font.PDCIDFontType2 <init>\n",
      "INFO: OpenType Layout tables used in font BCDFEE+Calibri are not implemented in PDFBox and will be ignored\n",
      "mar 27, 2020 10:17:34 AM org.apache.pdfbox.pdmodel.font.PDCIDFontType2 <init>\n",
      "INFO: OpenType Layout tables used in font BCDFEE+Calibri are not implemented in PDFBox and will be ignored\n",
      "mar 27, 2020 10:17:34 AM org.apache.pdfbox.pdmodel.font.PDCIDFontType2 <init>\n",
      "INFO: OpenType Layout tables used in font BCDFEE+Calibri are not implemented in PDFBox and will be ignored\n",
      "mar 27, 2020 10:17:34 AM org.apache.pdfbox.pdmodel.font.PDCIDFontType2 <init>\n",
      "INFO: OpenType Layout tables used in font BCDIEE+Calibri-Bold are not implemented in PDFBox and will be ignored\n",
      "mar 27, 2020 10:17:35 AM org.apache.pdfbox.pdmodel.font.PDCIDFontType2 <init>\n",
      "INFO: OpenType Layout tables used in font BCDIEE+Calibri-Bold are not implemented in PDFBox and will be ignored\n",
      "mar 27, 2020 10:17:35 AM org.apache.pdfbox.pdmodel.font.PDCIDFontType2 <init>\n",
      "INFO: OpenType Layout tables used in font BCDIEE+Calibri-Bold are not implemented in PDFBox and will be ignored\n",
      "\n"
     ]
    }
   ],
   "source": [
    "\n",
    "file = \"who_report_covid19_65.pdf\"\n",
    "output_file = \"who_report_covid19_65.csv\"\n",
    "\n",
    "\n",
    "cases_list = read_pdf(file, pages = [3,4,5,6], pandas_options={'header': None})\n",
    "cases_df = pd.concat(cases_list)"
   ]
  },
  {
   "cell_type": "code",
   "execution_count": 13,
   "metadata": {},
   "outputs": [],
   "source": [
    "cases_df.columns  = [\"country\", \"total_cases\", \"cases_today\", \"total_deaths\", \"deaths_today\", \"classification\", \"says since last case\"]\n",
    "\n",
    "# Netherlands and Portugal will be removed, as people are curating their pages manually. \n",
    "\n",
    "\n",
    "cases_df = cases_df[cases_df[\"country\"] != \"Netherlands\"]\n",
    "cases_df = cases_df[cases_df[\"country\"] != \"Portugal\"]\n",
    "cases_df[\"country\"] = cases_df[\"country\"].str.replace('\\r', \" \")\n",
    "\n",
    "\n",
    "cases_df.to_csv(output_file)\n",
    "\n",
    "# Table had to be manually curated"
   ]
  },
  {
   "cell_type": "code",
   "execution_count": 17,
   "metadata": {},
   "outputs": [
    {
     "name": "stdout",
     "output_type": "stream",
     "text": [
      "     outbreak_qid                                   outbreak country_qid  \\\n",
      "0       Q83872291      2019–20 coronavirus outbreak in Japan         Q17   \n",
      "1       Q83872291      2019–20 coronavirus outbreak in Japan         Q17   \n",
      "2       Q83872291      2019–20 coronavirus outbreak in Japan         Q17   \n",
      "3       Q83872291      2019–20 coronavirus outbreak in Japan         Q17   \n",
      "4       Q87191204         2020 coronavirus pandemic in Chile        Q298   \n",
      "...           ...                                        ...         ...   \n",
      "1147    Q87709760       2020 coronavirus pandemic in Curaçao      Q25279   \n",
      "1148    Q88082922  2020 coronavirus pandemic in Sint Maarten      Q26273   \n",
      "1149    Q88082922  2020 coronavirus pandemic in Sint Maarten      Q26273   \n",
      "1150    Q88082922  2020 coronavirus pandemic in Sint Maarten      Q26273   \n",
      "1151    Q87250930      2020 coronavirus outbreak in Cameroon   Q29406548   \n",
      "\n",
      "           country     other_names  \n",
      "0            Japan           Nihon  \n",
      "1            Japan      Nihon-koku  \n",
      "2            Japan     Nippon-koku  \n",
      "3            Japan  State of Japan  \n",
      "4            Chile             CHI  \n",
      "...            ...             ...  \n",
      "1147       Curaçao          Kòrsou  \n",
      "1148  Sint Maarten    Saint Martin  \n",
      "1149  Sint Maarten              SX  \n",
      "1150  Sint Maarten       St Martin  \n",
      "1151      Cameroun             NaN  \n",
      "\n",
      "[1152 rows x 5 columns]\n"
     ]
    }
   ],
   "source": [
    "output_file_name = \"country_to_outbreak_dictionary.csv\"\n",
    "\n",
    "get_dicitionary_of_outbreaks_to_countries(output_file_name)"
   ]
  },
  {
   "cell_type": "code",
   "execution_count": null,
   "metadata": {},
   "outputs": [],
   "source": [
    "from wikidataintegrator import wdi_core\n",
    "\n",
    "wdi_core.WDItemEngine.get_wd_search_results(\"Novel Coronavirus (2019-nCoV) Situation Report \" + str(62))\n",
    "\n",
    "import pandas as pd\n",
    "\n",
    "who_report_qid = wdi_core.WDItemEngine.get_wd_search_results(\"Novel Coronavirus (2019-nCoV) Situation Report \" + str(62))[0]\n",
    "who_report_date = \"+2020-03-19T00:00:00Z/11\"\n",
    "who_table_with_qids = pd.read_csv(\"who_table_with_qids.csv\")\n",
    "\n",
    "\n",
    "who_table_with_qids['total_deaths'] = who_table_with_qids['total_deaths'].astype(str).replace('\\.0', '', regex=True)\n",
    "who_table_with_qids['total_cases'] = who_table_with_qids['total_cases'].astype(str).replace('\\.0', '', regex=True)\n",
    "\n",
    "for index, row in who_table_with_qids.iterrows():\n",
    "        print(\n",
    "      row['outbreak_qid'] +'|P1120|' + row['total_deaths'] +     \"|P585|\" + who_report_date +  '\\n' +         \n",
    "      row['outbreak_qid'] +'|P1120|'  + row['total_deaths']    + \"|S248|\" + who_report_qid +  '\\n' +\n",
    "      row['outbreak_qid'] +'|P1603|' + row['total_cases'] +      \"|P585|\" + who_report_date +  '\\n' +\n",
    "      row['outbreak_qid'] +'|P1603|'  + row['total_cases'] + \"|S248|\" + who_report_qid +  '\\n' )\n"
   ]
  }
 ],
 "metadata": {
  "kernelspec": {
   "display_name": "Python 3",
   "language": "python",
   "name": "python3"
  },
  "language_info": {
   "codemirror_mode": {
    "name": "ipython",
    "version": 3
   },
   "file_extension": ".py",
   "mimetype": "text/x-python",
   "name": "python",
   "nbconvert_exporter": "python",
   "pygments_lexer": "ipython3",
   "version": "3.6.9"
  }
 },
 "nbformat": 4,
 "nbformat_minor": 4
}
