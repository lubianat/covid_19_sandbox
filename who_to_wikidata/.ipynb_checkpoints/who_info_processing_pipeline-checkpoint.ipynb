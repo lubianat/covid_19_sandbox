{
 "cells": [
  {
   "cell_type": "code",
   "execution_count": 43,
   "metadata": {},
   "outputs": [
    {
     "name": "stdout",
     "output_type": "stream",
     "text": [
      "Time since first report:68 days, 0:00:00\n"
     ]
    }
   ],
   "source": [
    "import pandas as pd\n",
    "from tabula import read_pdf\n",
    "%run functions\n",
    "\n",
    "\n",
    "import datetime as dt\n",
    "\n",
    "today = dt.date.today()\n",
    "\n",
    "print(\"Time since first report:\" + str(today - date(2020,1,20)))"
   ]
  },
  {
   "cell_type": "code",
   "execution_count": 44,
   "metadata": {},
   "outputs": [],
   "source": [
    "report_number = 67\n",
    "\n",
    "\n",
    "download_covid_report(report_number)\n",
    "\n"
   ]
  },
  {
   "cell_type": "code",
   "execution_count": 45,
   "metadata": {},
   "outputs": [
    {
     "name": "stderr",
     "output_type": "stream",
     "text": [
      "Got stderr: mar 28, 2020 1:56:50 PM org.apache.pdfbox.pdmodel.font.PDCIDFontType2 <init>\n",
      "INFO: OpenType Layout tables used in font BCDIEE+Calibri-Bold are not implemented in PDFBox and will be ignored\n",
      "mar 28, 2020 1:56:50 PM org.apache.pdfbox.pdmodel.font.PDCIDFontType2 <init>\n",
      "INFO: OpenType Layout tables used in font BCDIEE+Calibri-Bold are not implemented in PDFBox and will be ignored\n",
      "mar 28, 2020 1:56:50 PM org.apache.pdfbox.pdmodel.font.PDCIDFontType2 <init>\n",
      "INFO: OpenType Layout tables used in font BCDIEE+Calibri-Bold are not implemented in PDFBox and will be ignored\n",
      "\n"
     ]
    }
   ],
   "source": [
    "\n",
    "file = \"who_report_covid19_\" + str(report_number) + \".pdf\"\n",
    "output_file = \"who_report_covid19_\" + str(report_number) + \".csv\"\n",
    "\n",
    "\n",
    "cases_list = read_pdf(file, pages = [3,4,5,6], pandas_options={'header': None})\n",
    "cases_df = pd.concat(cases_list)"
   ]
  },
  {
   "cell_type": "code",
   "execution_count": 46,
   "metadata": {},
   "outputs": [],
   "source": [
    "cases_df.columns  = [\"country\", \"total_cases\", \"cases_today\", \"total_deaths\", \"deaths_today\", \"classification\", \"says since last case\"]\n",
    "\n",
    "# Netherlands and Portugal will be removed, as people are curating their pages manually. \n",
    "\n",
    "\n",
    "cases_df = cases_df[cases_df[\"country\"] != \"Netherlands\"]\n",
    "cases_df = cases_df[cases_df[\"country\"] != \"Portugal\"]\n",
    "cases_df = cases_df[cases_df[\"country\"] != \"Sweden\"]\n",
    "cases_df[\"country\"] = cases_df[\"country\"].str.replace('\\r', \" \")\n",
    "\n",
    "\n",
    "cases_df.to_csv(output_file)\n",
    "\n",
    "# Table had to be manually curated"
   ]
  },
  {
   "cell_type": "code",
   "execution_count": 47,
   "metadata": {},
   "outputs": [
    {
     "name": "stdout",
     "output_type": "stream",
     "text": [
      "     outbreak_qid                                   outbreak country_qid  \\\n",
      "0       Q83872291      2019–20 coronavirus outbreak in Japan         Q17   \n",
      "1       Q83872291      2019–20 coronavirus outbreak in Japan         Q17   \n",
      "2       Q83872291      2019–20 coronavirus outbreak in Japan         Q17   \n",
      "3       Q83872291      2019–20 coronavirus outbreak in Japan         Q17   \n",
      "4       Q87243915  2020 coronavirus outbreak in South Africa        Q258   \n",
      "...           ...                                        ...         ...   \n",
      "1164    Q88082922  2020 coronavirus pandemic in Sint Maarten      Q26273   \n",
      "1165    Q88082922  2020 coronavirus pandemic in Sint Maarten      Q26273   \n",
      "1166    Q88082922  2020 coronavirus pandemic in Sint Maarten      Q26273   \n",
      "1167    Q88082922  2020 coronavirus pandemic in Sint Maarten      Q26273   \n",
      "1168    Q87250930      2020 coronavirus outbreak in Cameroon   Q29406548   \n",
      "\n",
      "           country                other_names  \n",
      "0            Japan                      Nihon  \n",
      "1            Japan                 Nihon-koku  \n",
      "2            Japan                Nippon-koku  \n",
      "3            Japan             State of Japan  \n",
      "4     South Africa                         SA  \n",
      "...            ...                        ...  \n",
      "1164  Sint Maarten  Saint Martin (Dutch part)  \n",
      "1165  Sint Maarten  Sint Maarten (Dutch part)  \n",
      "1166  Sint Maarten                St. Maarten  \n",
      "1167  Sint Maarten                         🇸🇽  \n",
      "1168      Cameroun                        NaN  \n",
      "\n",
      "[1169 rows x 5 columns]\n"
     ]
    }
   ],
   "source": [
    "output_file_name = \"country_to_outbreak_dictionary.csv\"\n",
    "\n",
    "get_dicitionary_of_outbreaks_to_countries(output_file_name)"
   ]
  },
  {
   "cell_type": "code",
   "execution_count": null,
   "metadata": {},
   "outputs": [],
   "source": [
    "who = pd.read_csv(\"who_report_covid19_\" + str(report_number) + \".csv\")\n",
    "dictionary = pd.read_csv(\"country_to_outbreak_dictionary.csv\")\n",
    "merged_output_name = \"who_table_with_qids.csv\"\n",
    "\n",
    "\n",
    "who_table_with_qids = match_who_table_to_qids(who, dictionary, merged_output_name)\n",
    "\n",
    "if ~len(list_duplicates(who_table_with_qids[\"country\"])):\n",
    "    print(\"It is okay\")\n",
    "else:\n",
    "    print(list_duplicates(who_table_with_qids[\"country\"]))"
   ]
  },
  {
   "cell_type": "code",
   "execution_count": 48,
   "metadata": {},
   "outputs": [
    {
     "ename": "KeyError",
     "evalue": "'outbreak_qid'",
     "output_type": "error",
     "traceback": [
      "\u001b[0;31m---------------------------------------------------------\u001b[0m",
      "\u001b[0;31mTypeError\u001b[0m               Traceback (most recent call last)",
      "\u001b[0;32m~/.local/lib/python3.6/site-packages/pandas/core/indexes/base.py\u001b[0m in \u001b[0;36mget_value\u001b[0;34m(self, series, key)\u001b[0m\n\u001b[1;32m   4409\u001b[0m             \u001b[0;32mtry\u001b[0m\u001b[0;34m:\u001b[0m\u001b[0;34m\u001b[0m\u001b[0;34m\u001b[0m\u001b[0m\n\u001b[0;32m-> 4410\u001b[0;31m                 \u001b[0;32mreturn\u001b[0m \u001b[0mlibindex\u001b[0m\u001b[0;34m.\u001b[0m\u001b[0mget_value_at\u001b[0m\u001b[0;34m(\u001b[0m\u001b[0ms\u001b[0m\u001b[0;34m,\u001b[0m \u001b[0mkey\u001b[0m\u001b[0;34m)\u001b[0m\u001b[0;34m\u001b[0m\u001b[0;34m\u001b[0m\u001b[0m\n\u001b[0m\u001b[1;32m   4411\u001b[0m             \u001b[0;32mexcept\u001b[0m \u001b[0mIndexError\u001b[0m\u001b[0;34m:\u001b[0m\u001b[0;34m\u001b[0m\u001b[0;34m\u001b[0m\u001b[0m\n",
      "\u001b[0;32mpandas/_libs/index.pyx\u001b[0m in \u001b[0;36mpandas._libs.index.get_value_at\u001b[0;34m()\u001b[0m\n",
      "\u001b[0;32mpandas/_libs/index.pyx\u001b[0m in \u001b[0;36mpandas._libs.index.get_value_at\u001b[0;34m()\u001b[0m\n",
      "\u001b[0;32mpandas/_libs/util.pxd\u001b[0m in \u001b[0;36mpandas._libs.util.get_value_at\u001b[0;34m()\u001b[0m\n",
      "\u001b[0;32mpandas/_libs/util.pxd\u001b[0m in \u001b[0;36mpandas._libs.util.validate_indexer\u001b[0;34m()\u001b[0m\n",
      "\u001b[0;31mTypeError\u001b[0m: 'str' object cannot be interpreted as an integer",
      "\nDuring handling of the above exception, another exception occurred:\n",
      "\u001b[0;31mKeyError\u001b[0m                Traceback (most recent call last)",
      "\u001b[0;32m<ipython-input-48-137883c3970a>\u001b[0m in \u001b[0;36m<module>\u001b[0;34m\u001b[0m\n\u001b[1;32m     18\u001b[0m       \u001b[0mrow\u001b[0m\u001b[0;34m[\u001b[0m\u001b[0;34m'outbreak_qid'\u001b[0m\u001b[0;34m]\u001b[0m \u001b[0;34m+\u001b[0m\u001b[0;34m'|P1120|'\u001b[0m  \u001b[0;34m+\u001b[0m \u001b[0mrow\u001b[0m\u001b[0;34m[\u001b[0m\u001b[0;34m'total_deaths'\u001b[0m\u001b[0;34m]\u001b[0m    \u001b[0;34m+\u001b[0m \u001b[0;34m\"|S248|\"\u001b[0m \u001b[0;34m+\u001b[0m \u001b[0mwho_report_qid\u001b[0m \u001b[0;34m+\u001b[0m  \u001b[0;34m'\\n'\u001b[0m \u001b[0;34m+\u001b[0m\u001b[0;34m\u001b[0m\u001b[0;34m\u001b[0m\u001b[0m\n\u001b[1;32m     19\u001b[0m       \u001b[0mrow\u001b[0m\u001b[0;34m[\u001b[0m\u001b[0;34m'outbreak_qid'\u001b[0m\u001b[0;34m]\u001b[0m \u001b[0;34m+\u001b[0m\u001b[0;34m'|P1603|'\u001b[0m \u001b[0;34m+\u001b[0m \u001b[0mrow\u001b[0m\u001b[0;34m[\u001b[0m\u001b[0;34m'total_cases'\u001b[0m\u001b[0;34m]\u001b[0m \u001b[0;34m+\u001b[0m      \u001b[0;34m\"|P585|\"\u001b[0m \u001b[0;34m+\u001b[0m \u001b[0mwho_report_date\u001b[0m \u001b[0;34m+\u001b[0m  \u001b[0;34m'\\n'\u001b[0m \u001b[0;34m+\u001b[0m\u001b[0;34m\u001b[0m\u001b[0;34m\u001b[0m\u001b[0m\n\u001b[0;32m---> 20\u001b[0;31m       row['outbreak_qid'] +'|P1603|'  + row['total_cases'] + \"|S248|\" + who_report_qid +  '\\n' )\n\u001b[0m",
      "\u001b[0;32m~/.local/lib/python3.6/site-packages/pandas/core/series.py\u001b[0m in \u001b[0;36m__getitem__\u001b[0;34m(self, key)\u001b[0m\n\u001b[1;32m    869\u001b[0m         \u001b[0mkey\u001b[0m \u001b[0;34m=\u001b[0m \u001b[0mcom\u001b[0m\u001b[0;34m.\u001b[0m\u001b[0mapply_if_callable\u001b[0m\u001b[0;34m(\u001b[0m\u001b[0mkey\u001b[0m\u001b[0;34m,\u001b[0m \u001b[0mself\u001b[0m\u001b[0;34m)\u001b[0m\u001b[0;34m\u001b[0m\u001b[0;34m\u001b[0m\u001b[0m\n\u001b[1;32m    870\u001b[0m         \u001b[0;32mtry\u001b[0m\u001b[0;34m:\u001b[0m\u001b[0;34m\u001b[0m\u001b[0;34m\u001b[0m\u001b[0m\n\u001b[0;32m--> 871\u001b[0;31m             \u001b[0mresult\u001b[0m \u001b[0;34m=\u001b[0m \u001b[0mself\u001b[0m\u001b[0;34m.\u001b[0m\u001b[0mindex\u001b[0m\u001b[0;34m.\u001b[0m\u001b[0mget_value\u001b[0m\u001b[0;34m(\u001b[0m\u001b[0mself\u001b[0m\u001b[0;34m,\u001b[0m \u001b[0mkey\u001b[0m\u001b[0;34m)\u001b[0m\u001b[0;34m\u001b[0m\u001b[0;34m\u001b[0m\u001b[0m\n\u001b[0m\u001b[1;32m    872\u001b[0m \u001b[0;34m\u001b[0m\u001b[0m\n\u001b[1;32m    873\u001b[0m             \u001b[0;32mif\u001b[0m \u001b[0;32mnot\u001b[0m \u001b[0mis_scalar\u001b[0m\u001b[0;34m(\u001b[0m\u001b[0mresult\u001b[0m\u001b[0;34m)\u001b[0m\u001b[0;34m:\u001b[0m\u001b[0;34m\u001b[0m\u001b[0;34m\u001b[0m\u001b[0m\n",
      "\u001b[0;32m~/.local/lib/python3.6/site-packages/pandas/core/indexes/base.py\u001b[0m in \u001b[0;36mget_value\u001b[0;34m(self, series, key)\u001b[0m\n\u001b[1;32m   4416\u001b[0m                     \u001b[0;32mraise\u001b[0m \u001b[0mInvalidIndexError\u001b[0m\u001b[0;34m(\u001b[0m\u001b[0mkey\u001b[0m\u001b[0;34m)\u001b[0m\u001b[0;34m\u001b[0m\u001b[0;34m\u001b[0m\u001b[0m\n\u001b[1;32m   4417\u001b[0m                 \u001b[0;32melse\u001b[0m\u001b[0;34m:\u001b[0m\u001b[0;34m\u001b[0m\u001b[0;34m\u001b[0m\u001b[0m\n\u001b[0;32m-> 4418\u001b[0;31m                     \u001b[0;32mraise\u001b[0m \u001b[0me1\u001b[0m\u001b[0;34m\u001b[0m\u001b[0;34m\u001b[0m\u001b[0m\n\u001b[0m\u001b[1;32m   4419\u001b[0m             \u001b[0;32mexcept\u001b[0m \u001b[0mException\u001b[0m\u001b[0;34m:\u001b[0m\u001b[0;34m\u001b[0m\u001b[0;34m\u001b[0m\u001b[0m\n\u001b[1;32m   4420\u001b[0m                 \u001b[0;32mraise\u001b[0m \u001b[0me1\u001b[0m\u001b[0;34m\u001b[0m\u001b[0;34m\u001b[0m\u001b[0m\n",
      "\u001b[0;32m~/.local/lib/python3.6/site-packages/pandas/core/indexes/base.py\u001b[0m in \u001b[0;36mget_value\u001b[0;34m(self, series, key)\u001b[0m\n\u001b[1;32m   4402\u001b[0m         \u001b[0mk\u001b[0m \u001b[0;34m=\u001b[0m \u001b[0mself\u001b[0m\u001b[0;34m.\u001b[0m\u001b[0m_convert_scalar_indexer\u001b[0m\u001b[0;34m(\u001b[0m\u001b[0mk\u001b[0m\u001b[0;34m,\u001b[0m \u001b[0mkind\u001b[0m\u001b[0;34m=\u001b[0m\u001b[0;34m\"getitem\"\u001b[0m\u001b[0;34m)\u001b[0m\u001b[0;34m\u001b[0m\u001b[0;34m\u001b[0m\u001b[0m\n\u001b[1;32m   4403\u001b[0m         \u001b[0;32mtry\u001b[0m\u001b[0;34m:\u001b[0m\u001b[0;34m\u001b[0m\u001b[0;34m\u001b[0m\u001b[0m\n\u001b[0;32m-> 4404\u001b[0;31m             \u001b[0;32mreturn\u001b[0m \u001b[0mself\u001b[0m\u001b[0;34m.\u001b[0m\u001b[0m_engine\u001b[0m\u001b[0;34m.\u001b[0m\u001b[0mget_value\u001b[0m\u001b[0;34m(\u001b[0m\u001b[0ms\u001b[0m\u001b[0;34m,\u001b[0m \u001b[0mk\u001b[0m\u001b[0;34m,\u001b[0m \u001b[0mtz\u001b[0m\u001b[0;34m=\u001b[0m\u001b[0mgetattr\u001b[0m\u001b[0;34m(\u001b[0m\u001b[0mseries\u001b[0m\u001b[0;34m.\u001b[0m\u001b[0mdtype\u001b[0m\u001b[0;34m,\u001b[0m \u001b[0;34m\"tz\"\u001b[0m\u001b[0;34m,\u001b[0m \u001b[0;32mNone\u001b[0m\u001b[0;34m)\u001b[0m\u001b[0;34m)\u001b[0m\u001b[0;34m\u001b[0m\u001b[0;34m\u001b[0m\u001b[0m\n\u001b[0m\u001b[1;32m   4405\u001b[0m         \u001b[0;32mexcept\u001b[0m \u001b[0mKeyError\u001b[0m \u001b[0;32mas\u001b[0m \u001b[0me1\u001b[0m\u001b[0;34m:\u001b[0m\u001b[0;34m\u001b[0m\u001b[0;34m\u001b[0m\u001b[0m\n\u001b[1;32m   4406\u001b[0m             \u001b[0;32mif\u001b[0m \u001b[0mlen\u001b[0m\u001b[0;34m(\u001b[0m\u001b[0mself\u001b[0m\u001b[0;34m)\u001b[0m \u001b[0;34m>\u001b[0m \u001b[0;36m0\u001b[0m \u001b[0;32mand\u001b[0m \u001b[0;34m(\u001b[0m\u001b[0mself\u001b[0m\u001b[0;34m.\u001b[0m\u001b[0mholds_integer\u001b[0m\u001b[0;34m(\u001b[0m\u001b[0;34m)\u001b[0m \u001b[0;32mor\u001b[0m \u001b[0mself\u001b[0m\u001b[0;34m.\u001b[0m\u001b[0mis_boolean\u001b[0m\u001b[0;34m(\u001b[0m\u001b[0;34m)\u001b[0m\u001b[0;34m)\u001b[0m\u001b[0;34m:\u001b[0m\u001b[0;34m\u001b[0m\u001b[0;34m\u001b[0m\u001b[0m\n",
      "\u001b[0;32mpandas/_libs/index.pyx\u001b[0m in \u001b[0;36mpandas._libs.index.IndexEngine.get_value\u001b[0;34m()\u001b[0m\n",
      "\u001b[0;32mpandas/_libs/index.pyx\u001b[0m in \u001b[0;36mpandas._libs.index.IndexEngine.get_value\u001b[0;34m()\u001b[0m\n",
      "\u001b[0;32mpandas/_libs/index.pyx\u001b[0m in \u001b[0;36mpandas._libs.index.IndexEngine.get_loc\u001b[0;34m()\u001b[0m\n",
      "\u001b[0;32mpandas/_libs/hashtable_class_helper.pxi\u001b[0m in \u001b[0;36mpandas._libs.hashtable.PyObjectHashTable.get_item\u001b[0;34m()\u001b[0m\n",
      "\u001b[0;32mpandas/_libs/hashtable_class_helper.pxi\u001b[0m in \u001b[0;36mpandas._libs.hashtable.PyObjectHashTable.get_item\u001b[0;34m()\u001b[0m\n",
      "\u001b[0;31mKeyError\u001b[0m: 'outbreak_qid'"
     ]
    }
   ],
   "source": [
    "from wikidataintegrator import wdi_core\n",
    "\n",
    "wdi_core.WDItemEngine.get_wd_search_results(\"Novel Coronavirus (2019-nCoV) Situation Report \" + str(report_number))\n",
    "\n",
    "import pandas as pd\n",
    "\n",
    "who_report_qid = wdi_core.WDItemEngine.get_wd_search_results(\"Novel Coronavirus (2019-nCoV) Situation Report \" + str(report_number))[0]\n",
    "who_report_date = get_wikidata_date_from_report_number(report_number)\n",
    "who_table_with_qids = pd.read_csv(\"who_table_with_qids.csv\")\n",
    "\n",
    "\n",
    "who_table_with_qids['total_deaths'] = who_table_with_qids['total_deaths'].astype(str).replace('\\.0', '', regex=True)\n",
    "who_table_with_qids['total_cases'] = who_table_with_qids['total_cases'].astype(str).replace('\\.0', '', regex=True)\n",
    "\n",
    "for index, row in who_table_with_qids.iterrows():\n",
    "        print(\n",
    "      row['outbreak_qid'] +'|P1120|' + row['total_deaths'] +     \"|P585|\" + who_report_date +  '\\n' +         \n",
    "      row['outbreak_qid'] +'|P1120|'  + row['total_deaths']    + \"|S248|\" + who_report_qid +  '\\n' +\n",
    "      row['outbreak_qid'] +'|P1603|' + row['total_cases'] +      \"|P585|\" + who_report_date +  '\\n' +\n",
    "      row['outbreak_qid'] +'|P1603|'  + row['total_cases'] + \"|S248|\" + who_report_qid +  '\\n' )\n"
   ]
  },
  {
   "cell_type": "code",
   "execution_count": 39,
   "metadata": {},
   "outputs": [
    {
     "data": {
      "text/plain": [
       "'Q88805840'"
      ]
     },
     "execution_count": 39,
     "metadata": {},
     "output_type": "execute_result"
    }
   ],
   "source": []
  },
  {
   "cell_type": "code",
   "execution_count": null,
   "metadata": {},
   "outputs": [],
   "source": []
  }
 ],
 "metadata": {
  "kernelspec": {
   "display_name": "Python 3",
   "language": "python",
   "name": "python3"
  },
  "language_info": {
   "codemirror_mode": {
    "name": "ipython",
    "version": 3
   },
   "file_extension": ".py",
   "mimetype": "text/x-python",
   "name": "python",
   "nbconvert_exporter": "python",
   "pygments_lexer": "ipython3",
   "version": "3.6.9"
  }
 },
 "nbformat": 4,
 "nbformat_minor": 4
}
