{
 "cells": [
  {
   "cell_type": "code",
   "execution_count": 16,
   "metadata": {},
   "outputs": [
    {
     "data": {
      "text/plain": [
       "['Q88324510']"
      ]
     },
     "execution_count": 16,
     "metadata": {},
     "output_type": "execute_result"
    }
   ],
   "source": [
    "from wikidataintegrator import wdi_core\n",
    "\n",
    "wdi_core.WDItemEngine.get_wd_search_results(\"Novel Coronavirus (2019-nCoV) Situation Report \" + str(62))\n",
    "\n"
   ]
  },
  {
   "cell_type": "code",
   "execution_count": null,
   "metadata": {},
   "outputs": [],
   "source": [
    "\n",
    "import pandas as pd\n",
    "\n",
    "who_report_qid = wdi_core.WDItemEngine.get_wd_search_results(\"Novel Coronavirus (2019-nCoV) Situation Report \" + str(62))[0]\n",
    "who_report_date = \"+2020-03-19T00:00:00Z/11\"\n",
    "who_table_with_qids = pd.read_csv(\"who_table_with_qids.csv\")\n",
    "\n",
    "\n",
    "who_table_with_qids['total_deaths'] = who_table_with_qids['total_deaths'].astype(str).replace('\\.0', '', regex=True)\n",
    "who_table_with_qids['total_cases'] = who_table_with_qids['total_cases'].astype(str).replace('\\.0', '', regex=True)\n",
    "\n",
    "for index, row in who_table_with_qids.iterrows():\n",
    "        print(\n",
    "      row['outbreak_qid'] +'|P1120|' + row['total_deaths'] +     \"|P585|\" + who_report_date +  '\\n' +         \n",
    "      row['outbreak_qid'] +'|P1120|'  + row['total_deaths']    + \"|S248|\" + who_report_qid +  '\\n' +\n",
    "      row['outbreak_qid'] +'|P1603|' + row['total_cases'] +      \"|P585|\" + who_report_date +  '\\n' +\n",
    "      row['outbreak_qid'] +'|P1603|'  + row['total_cases'] + \"|S248|\" + who_report_qid +  '\\n' )\n"
   ]
  },
  {
   "cell_type": "code",
   "execution_count": 3,
   "metadata": {},
   "outputs": [],
   "source": []
  },
  {
   "cell_type": "code",
   "execution_count": 15,
   "metadata": {},
   "outputs": [
    {
     "data": {
      "text/plain": [
       "['Q88324510']"
      ]
     },
     "execution_count": 15,
     "metadata": {},
     "output_type": "execute_result"
    }
   ],
   "source": []
  },
  {
   "cell_type": "code",
   "execution_count": 10,
   "metadata": {},
   "outputs": [
    {
     "data": {
      "text/html": [
       "<div>\n",
       "<style scoped>\n",
       "    .dataframe tbody tr th:only-of-type {\n",
       "        vertical-align: middle;\n",
       "    }\n",
       "\n",
       "    .dataframe tbody tr th {\n",
       "        vertical-align: top;\n",
       "    }\n",
       "\n",
       "    .dataframe thead th {\n",
       "        text-align: right;\n",
       "    }\n",
       "</style>\n",
       "<table border=\"1\" class=\"dataframe\">\n",
       "  <thead>\n",
       "    <tr style=\"text-align: right;\">\n",
       "      <th></th>\n",
       "    </tr>\n",
       "  </thead>\n",
       "  <tbody>\n",
       "  </tbody>\n",
       "</table>\n",
       "</div>"
      ],
      "text/plain": [
       "Empty DataFrame\n",
       "Columns: []\n",
       "Index: []"
      ]
     },
     "execution_count": 10,
     "metadata": {},
     "output_type": "execute_result"
    }
   ],
   "source": []
  },
  {
   "cell_type": "code",
   "execution_count": null,
   "metadata": {},
   "outputs": [],
   "source": []
  }
 ],
 "metadata": {
  "kernelspec": {
   "display_name": "Python 3",
   "language": "python",
   "name": "python3"
  },
  "language_info": {
   "codemirror_mode": {
    "name": "ipython",
    "version": 3
   },
   "file_extension": ".py",
   "mimetype": "text/x-python",
   "name": "python",
   "nbconvert_exporter": "python",
   "pygments_lexer": "ipython3",
   "version": "3.6.9"
  }
 },
 "nbformat": 4,
 "nbformat_minor": 4
}
